{
 "cells": [
  {
   "cell_type": "code",
   "execution_count": 2,
   "metadata": {},
   "outputs": [],
   "source": [
    "import pandas as pd"
   ]
  },
  {
   "cell_type": "markdown",
   "metadata": {},
   "source": [
    "# 1"
   ]
  },
  {
   "cell_type": "code",
   "execution_count": 28,
   "metadata": {},
   "outputs": [
    {
     "data": {
      "text/html": [
       "<div>\n",
       "<style scoped>\n",
       "    .dataframe tbody tr th:only-of-type {\n",
       "        vertical-align: middle;\n",
       "    }\n",
       "\n",
       "    .dataframe tbody tr th {\n",
       "        vertical-align: top;\n",
       "    }\n",
       "\n",
       "    .dataframe thead th {\n",
       "        text-align: right;\n",
       "    }\n",
       "</style>\n",
       "<table border=\"1\" class=\"dataframe\">\n",
       "  <thead>\n",
       "    <tr style=\"text-align: right;\">\n",
       "      <th></th>\n",
       "      <th>Geneid</th>\n",
       "      <th>Chr</th>\n",
       "      <th>Start</th>\n",
       "      <th>End</th>\n",
       "      <th>Strand</th>\n",
       "      <th>Length</th>\n",
       "      <th>Feature_count</th>\n",
       "      <th>contig_ID</th>\n",
       "      <th>MAG_id</th>\n",
       "      <th>RPKM</th>\n",
       "    </tr>\n",
       "  </thead>\n",
       "  <tbody>\n",
       "    <tr>\n",
       "      <th>ID=G1_719_cleanedcontig_v2_1580_319;locus_tag=G1_719_cleanedcontig_v2_1580_319;contig_length=349332;orf_length=554;partial=00;sourcedb=None;annotvalue=0;ec=;product=hypothetical</th>\n",
       "      <td>protein</td>\n",
       "      <td>G1_719_cleanedcontig_v2_1580</td>\n",
       "      <td>346495</td>\n",
       "      <td>347049</td>\n",
       "      <td>+</td>\n",
       "      <td>555</td>\n",
       "      <td>68733</td>\n",
       "      <td>NODE_28_length_349332_cov_12.741083</td>\n",
       "      <td>ag0r3_bin.39</td>\n",
       "      <td>11455.580332</td>\n",
       "    </tr>\n",
       "    <tr>\n",
       "      <th>ID=G1_719_cleanedcontig_v2_1582_130;locus_tag=G1_719_cleanedcontig_v2_1582_130;contig_length=189623;orf_length=3887;partial=00;sourcedb=None;annotvalue=0;ec=;product=hypothetical</th>\n",
       "      <td>protein</td>\n",
       "      <td>G1_719_cleanedcontig_v2_1582</td>\n",
       "      <td>147164</td>\n",
       "      <td>151051</td>\n",
       "      <td>-</td>\n",
       "      <td>3888</td>\n",
       "      <td>61026</td>\n",
       "      <td>NODE_113_length_189623_cov_11.186889</td>\n",
       "      <td>ag0r3_bin.39</td>\n",
       "      <td>1451.889039</td>\n",
       "    </tr>\n",
       "  </tbody>\n",
       "</table>\n",
       "</div>"
      ],
      "text/plain": [
       "                                                     Geneid  \\\n",
       "ID=G1_719_cleanedcontig_v2_1580_319;locus_tag=G...  protein   \n",
       "ID=G1_719_cleanedcontig_v2_1582_130;locus_tag=G...  protein   \n",
       "\n",
       "                                                                             Chr  \\\n",
       "ID=G1_719_cleanedcontig_v2_1580_319;locus_tag=G...  G1_719_cleanedcontig_v2_1580   \n",
       "ID=G1_719_cleanedcontig_v2_1582_130;locus_tag=G...  G1_719_cleanedcontig_v2_1582   \n",
       "\n",
       "                                                     Start     End Strand  \\\n",
       "ID=G1_719_cleanedcontig_v2_1580_319;locus_tag=G...  346495  347049      +   \n",
       "ID=G1_719_cleanedcontig_v2_1582_130;locus_tag=G...  147164  151051      -   \n",
       "\n",
       "                                                    Length  Feature_count  \\\n",
       "ID=G1_719_cleanedcontig_v2_1580_319;locus_tag=G...     555          68733   \n",
       "ID=G1_719_cleanedcontig_v2_1582_130;locus_tag=G...    3888          61026   \n",
       "\n",
       "                                                                               contig_ID  \\\n",
       "ID=G1_719_cleanedcontig_v2_1580_319;locus_tag=G...   NODE_28_length_349332_cov_12.741083   \n",
       "ID=G1_719_cleanedcontig_v2_1582_130;locus_tag=G...  NODE_113_length_189623_cov_11.186889   \n",
       "\n",
       "                                                          MAG_id          RPKM  \n",
       "ID=G1_719_cleanedcontig_v2_1580_319;locus_tag=G...  ag0r3_bin.39  11455.580332  \n",
       "ID=G1_719_cleanedcontig_v2_1582_130;locus_tag=G...  ag0r3_bin.39   1451.889039  "
      ]
     },
     "execution_count": 28,
     "metadata": {},
     "output_type": "execute_result"
    }
   ],
   "source": [
    "pd.DataFrame({'Geneid': {'ID=G1_719_cleanedcontig_v2_1580_319;locus_tag=G1_719_cleanedcontig_v2_1580_319;contig_length=349332;orf_length=554;partial=00;sourcedb=None;annotvalue=0;ec=;product=hypothetical': 'protein',\n",
    "  'ID=G1_719_cleanedcontig_v2_1582_130;locus_tag=G1_719_cleanedcontig_v2_1582_130;contig_length=189623;orf_length=3887;partial=00;sourcedb=None;annotvalue=0;ec=;product=hypothetical': 'protein'},\n",
    " 'Chr': {'ID=G1_719_cleanedcontig_v2_1580_319;locus_tag=G1_719_cleanedcontig_v2_1580_319;contig_length=349332;orf_length=554;partial=00;sourcedb=None;annotvalue=0;ec=;product=hypothetical': 'G1_719_cleanedcontig_v2_1580',\n",
    "  'ID=G1_719_cleanedcontig_v2_1582_130;locus_tag=G1_719_cleanedcontig_v2_1582_130;contig_length=189623;orf_length=3887;partial=00;sourcedb=None;annotvalue=0;ec=;product=hypothetical': 'G1_719_cleanedcontig_v2_1582'},\n",
    " 'Start': {'ID=G1_719_cleanedcontig_v2_1580_319;locus_tag=G1_719_cleanedcontig_v2_1580_319;contig_length=349332;orf_length=554;partial=00;sourcedb=None;annotvalue=0;ec=;product=hypothetical': 346495,\n",
    "  'ID=G1_719_cleanedcontig_v2_1582_130;locus_tag=G1_719_cleanedcontig_v2_1582_130;contig_length=189623;orf_length=3887;partial=00;sourcedb=None;annotvalue=0;ec=;product=hypothetical': 147164},\n",
    " 'End': {'ID=G1_719_cleanedcontig_v2_1580_319;locus_tag=G1_719_cleanedcontig_v2_1580_319;contig_length=349332;orf_length=554;partial=00;sourcedb=None;annotvalue=0;ec=;product=hypothetical': 347049,\n",
    "  'ID=G1_719_cleanedcontig_v2_1582_130;locus_tag=G1_719_cleanedcontig_v2_1582_130;contig_length=189623;orf_length=3887;partial=00;sourcedb=None;annotvalue=0;ec=;product=hypothetical': 151051},\n",
    " 'Strand': {'ID=G1_719_cleanedcontig_v2_1580_319;locus_tag=G1_719_cleanedcontig_v2_1580_319;contig_length=349332;orf_length=554;partial=00;sourcedb=None;annotvalue=0;ec=;product=hypothetical': '+',\n",
    "  'ID=G1_719_cleanedcontig_v2_1582_130;locus_tag=G1_719_cleanedcontig_v2_1582_130;contig_length=189623;orf_length=3887;partial=00;sourcedb=None;annotvalue=0;ec=;product=hypothetical': '-'},\n",
    " 'Length': {'ID=G1_719_cleanedcontig_v2_1580_319;locus_tag=G1_719_cleanedcontig_v2_1580_319;contig_length=349332;orf_length=554;partial=00;sourcedb=None;annotvalue=0;ec=;product=hypothetical': 555,\n",
    "  'ID=G1_719_cleanedcontig_v2_1582_130;locus_tag=G1_719_cleanedcontig_v2_1582_130;contig_length=189623;orf_length=3887;partial=00;sourcedb=None;annotvalue=0;ec=;product=hypothetical': 3888},\n",
    " 'Feature_count': {'ID=G1_719_cleanedcontig_v2_1580_319;locus_tag=G1_719_cleanedcontig_v2_1580_319;contig_length=349332;orf_length=554;partial=00;sourcedb=None;annotvalue=0;ec=;product=hypothetical': 68733,\n",
    "  'ID=G1_719_cleanedcontig_v2_1582_130;locus_tag=G1_719_cleanedcontig_v2_1582_130;contig_length=189623;orf_length=3887;partial=00;sourcedb=None;annotvalue=0;ec=;product=hypothetical': 61026},\n",
    " 'contig_ID': {'ID=G1_719_cleanedcontig_v2_1580_319;locus_tag=G1_719_cleanedcontig_v2_1580_319;contig_length=349332;orf_length=554;partial=00;sourcedb=None;annotvalue=0;ec=;product=hypothetical': 'NODE_28_length_349332_cov_12.741083',\n",
    "  'ID=G1_719_cleanedcontig_v2_1582_130;locus_tag=G1_719_cleanedcontig_v2_1582_130;contig_length=189623;orf_length=3887;partial=00;sourcedb=None;annotvalue=0;ec=;product=hypothetical': 'NODE_113_length_189623_cov_11.186889'},\n",
    " 'MAG_id': {'ID=G1_719_cleanedcontig_v2_1580_319;locus_tag=G1_719_cleanedcontig_v2_1580_319;contig_length=349332;orf_length=554;partial=00;sourcedb=None;annotvalue=0;ec=;product=hypothetical': 'ag0r3_bin.39',\n",
    "  'ID=G1_719_cleanedcontig_v2_1582_130;locus_tag=G1_719_cleanedcontig_v2_1582_130;contig_length=189623;orf_length=3887;partial=00;sourcedb=None;annotvalue=0;ec=;product=hypothetical': 'ag0r3_bin.39'},\n",
    " 'RPKM': {'ID=G1_719_cleanedcontig_v2_1580_319;locus_tag=G1_719_cleanedcontig_v2_1580_319;contig_length=349332;orf_length=554;partial=00;sourcedb=None;annotvalue=0;ec=;product=hypothetical': 11455.580332257081,\n",
    "  'ID=G1_719_cleanedcontig_v2_1582_130;locus_tag=G1_719_cleanedcontig_v2_1582_130;contig_length=189623;orf_length=3887;partial=00;sourcedb=None;annotvalue=0;ec=;product=hypothetical': 1451.8890393965805}})"
   ]
  },
  {
   "cell_type": "code",
   "execution_count": 30,
   "metadata": {},
   "outputs": [
    {
     "data": {
      "text/plain": [
       "0    G1_719_cleanedcontig_v2_1580_319\n",
       "1    G1_719_cleanedcontig_v2_1582_130\n",
       "dtype: object"
      ]
     },
     "execution_count": 30,
     "metadata": {},
     "output_type": "execute_result"
    }
   ],
   "source": [
    "pd.Series(df.index).apply(lambda x:x[x.index(\"ID=\")+3:].split(\";\")[0])"
   ]
  },
  {
   "cell_type": "code",
   "execution_count": 33,
   "metadata": {},
   "outputs": [
    {
     "data": {
      "text/html": [
       "<div>\n",
       "<style scoped>\n",
       "    .dataframe tbody tr th:only-of-type {\n",
       "        vertical-align: middle;\n",
       "    }\n",
       "\n",
       "    .dataframe tbody tr th {\n",
       "        vertical-align: top;\n",
       "    }\n",
       "\n",
       "    .dataframe thead th {\n",
       "        text-align: right;\n",
       "    }\n",
       "</style>\n",
       "<table border=\"1\" class=\"dataframe\">\n",
       "  <thead>\n",
       "    <tr style=\"text-align: right;\">\n",
       "      <th></th>\n",
       "      <th>0</th>\n",
       "    </tr>\n",
       "  </thead>\n",
       "  <tbody>\n",
       "    <tr>\n",
       "      <th>0</th>\n",
       "      <td>G1_719_cleanedcontig_v2_1580_319</td>\n",
       "    </tr>\n",
       "    <tr>\n",
       "      <th>1</th>\n",
       "      <td>G1_719_cleanedcontig_v2_1582_130</td>\n",
       "    </tr>\n",
       "  </tbody>\n",
       "</table>\n",
       "</div>"
      ],
      "text/plain": [
       "                                  0\n",
       "0  G1_719_cleanedcontig_v2_1580_319\n",
       "1  G1_719_cleanedcontig_v2_1582_130"
      ]
     },
     "execution_count": 33,
     "metadata": {},
     "output_type": "execute_result"
    }
   ],
   "source": [
    "# using regex\n",
    "df.index.str.extract('(?<=[ID]\\=)(.*?)(?=\\;)')"
   ]
  },
  {
   "cell_type": "code",
   "execution_count": null,
   "metadata": {},
   "outputs": [],
   "source": []
  },
  {
   "cell_type": "markdown",
   "metadata": {},
   "source": [
    "# 2 "
   ]
  },
  {
   "cell_type": "code",
   "execution_count": null,
   "metadata": {},
   "outputs": [],
   "source": []
  }
 ],
 "metadata": {
  "kernelspec": {
   "display_name": "Python 3",
   "language": "python",
   "name": "python3"
  },
  "language_info": {
   "codemirror_mode": {
    "name": "ipython",
    "version": 3
   },
   "file_extension": ".py",
   "mimetype": "text/x-python",
   "name": "python",
   "nbconvert_exporter": "python",
   "pygments_lexer": "ipython3",
   "version": "3.6.9"
  }
 },
 "nbformat": 4,
 "nbformat_minor": 4
}
