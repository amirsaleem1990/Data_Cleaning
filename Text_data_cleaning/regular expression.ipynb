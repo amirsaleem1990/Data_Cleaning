{
 "cells": [
  {
   "cell_type": "markdown",
   "metadata": {},
   "source": [
    "# only vowels"
   ]
  },
  {
   "cell_type": "code",
   "execution_count": 160,
   "metadata": {},
   "outputs": [
    {
     "data": {
      "text/plain": [
       "['a', 'i', 'a', 'e', 'e', 'a', 'i', 'o', 'o', 'a', 'a', 'i']"
      ]
     },
     "execution_count": 160,
     "metadata": {},
     "output_type": "execute_result"
    }
   ],
   "source": [
    "import re\n",
    "text = 'amir saleem arif moosa hashim'\n",
    "re.findall(r'[aeiou]', text)"
   ]
  },
  {
   "cell_type": "markdown",
   "metadata": {},
   "source": [
    "# only consonant"
   ]
  },
  {
   "cell_type": "code",
   "execution_count": 161,
   "metadata": {},
   "outputs": [
    {
     "data": {
      "text/plain": [
       "['m',\n",
       " 'r',\n",
       " ' ',\n",
       " 's',\n",
       " 'l',\n",
       " 'm',\n",
       " ' ',\n",
       " 'r',\n",
       " 'f',\n",
       " ' ',\n",
       " 'm',\n",
       " 's',\n",
       " ' ',\n",
       " 'h',\n",
       " 's',\n",
       " 'h',\n",
       " 'm']"
      ]
     },
     "execution_count": 161,
     "metadata": {},
     "output_type": "execute_result"
    }
   ],
   "source": [
    "re.findall(r'[^aeiou]', text)"
   ]
  },
  {
   "cell_type": "markdown",
   "metadata": {},
   "source": [
    "# only Callouts (Callouts: followed by '@')"
   ]
  },
  {
   "cell_type": "code",
   "execution_count": 53,
   "metadata": {},
   "outputs": [
    {
     "name": "stdout",
     "output_type": "stream",
     "text": [
      "using <startswith>:\n",
      "\t ['@', '@UN', '@UN_Women']\n",
      "using re: \n",
      "\t ['@UN', '@UN_Women']\n"
     ]
    }
   ],
   "source": [
    "text = '\"Ethics are built right into the ideals andobjectives of the\\\n",
    "United Nations\" #UNSG @ NY Society for Ethical Culture bit.ly/2guVelr \\\n",
    "@UN @UN_Women'\n",
    "text = text.split()\n",
    "[w for w in text if w.startswith('@')] \n",
    "print('using <startswith>:\\n\\t', ['@', '@UN', '@UN_Women'])\n",
    "\n",
    "# we don't need first return <'@'> since it is not a Callout, so:\n",
    "print('using re: \\n\\t', [w for w in text if re.search('@[A-Za-z0-9_]+', w)])"
   ]
  },
  {
   "cell_type": "markdown",
   "metadata": {},
   "source": [
    "### Meta-characters: Character matches"
   ]
  },
  {
   "cell_type": "code",
   "execution_count": 58,
   "metadata": {},
   "outputs": [],
   "source": [
    "# . : wildcard, matches a single character\n",
    "# ^ : start of a string\n",
    "# $ : end of a string\n",
    "# [] : matches one of the set of characters within []\n",
    "# [a-z] : matches one of the range of characters a, b, ..., z\n",
    "# [^abc] : matches a character that is not a, b, or, c\n",
    "# a|b\n",
    "# : matches either a or b, where a and b are strings\n",
    "# () : Scoping for operators\n",
    "# \\ : Escape character for special characters (\\t, \\n, \\b)"
   ]
  },
  {
   "cell_type": "markdown",
   "metadata": {},
   "source": [
    "### Meta-characters: Character symbols"
   ]
  },
  {
   "cell_type": "code",
   "execution_count": 59,
   "metadata": {},
   "outputs": [],
   "source": [
    "# \\b: Matches word boundary\n",
    "# \\d: Any digit, equivalent to [0-9]\n",
    "# \\D: Any non-digit, equivalent to [^0-9]\n",
    "# \\s: Any whitespace, equivalent to [ \\t\\n\\r\\f\\v]\n",
    "# \\S: Any non-whitespace, equivalent to [^ \\t\\n\\r\\f\\v]\n",
    "# \\w: Alphanumeric character, equivalent to [a-zA-Z0-9_]\n",
    "# \\W: Non-alphanumeric, equivalent to [^a-zA-Z0-9_]"
   ]
  },
  {
   "cell_type": "markdown",
   "metadata": {},
   "source": [
    "### Meta-characters: Repetitions"
   ]
  },
  {
   "cell_type": "code",
   "execution_count": 60,
   "metadata": {},
   "outputs": [],
   "source": [
    "# *: matches zero or more occurrences\n",
    "# +: matches one or more occurrences\n",
    "# ?: matches zero or one occurrences\n",
    "# {n} : exactly n repetitions, n≥ 0\n",
    "# {n,} : at least n repetitions\n",
    "# {,n} : at most n repetitions\n",
    "# {m,n} : at least m and at most n repetitions"
   ]
  },
  {
   "cell_type": "code",
   "execution_count": 77,
   "metadata": {},
   "outputs": [
    {
     "name": "stdout",
     "output_type": "stream",
     "text": [
      "23-10-2002\n",
      "23/10/2002\n",
      "23/10/02\n",
      "10/23/2002\n",
      "23 Oct 2002\n",
      "23 October 2002\n",
      "Oct 23, 2002\n",
      "October 23, 2002\n",
      "\n"
     ]
    }
   ],
   "source": [
    "date = '23-10-2002\\n23/10/2002\\n23/10/02\\n10/23/2002\\n23 Oct 2002\\n23 October 2002\\nOct 23, 2002\\nOctober 23, 2002\\n'\n",
    "print(date)"
   ]
  },
  {
   "cell_type": "code",
   "execution_count": 96,
   "metadata": {},
   "outputs": [
    {
     "name": "stdout",
     "output_type": "stream",
     "text": [
      "['23', '10', '2002', '23', '10', '2002', '23', '10', '02', '10', '23', '2002', '23', '2002', '23', '2002', '23', '2002', '23', '2002']\n"
     ]
    }
   ],
   "source": [
    "# srif wo jo jidits hon or un ki lenght kam az 2 ho\n",
    "print(re.findall(r'\\d{2,}', date))"
   ]
  },
  {
   "cell_type": "code",
   "execution_count": 103,
   "metadata": {},
   "outputs": [
    {
     "data": {
      "text/plain": [
       "['2002\\n', '2002\\n', '2002\\n', '2002\\n', '2002\\n', '2002\\n', '2002\\n']"
      ]
     },
     "execution_count": 103,
     "metadata": {},
     "output_type": "execute_result"
    }
   ],
   "source": [
    "# srif wo jo jidits hon or un ki lenght 4 ho or un k bad <\\n> ho\n",
    "re.findall(r'\\d{4}[\\n]', date)"
   ]
  },
  {
   "cell_type": "code",
   "execution_count": 107,
   "metadata": {},
   "outputs": [
    {
     "data": {
      "text/plain": [
       "[' Oct ']"
      ]
     },
     "execution_count": 107,
     "metadata": {},
     "output_type": "execute_result"
    }
   ],
   "source": [
    "# srif wo jo k non_numeric hon, or un ki lenght 3 ho, or un k pehly or baad me space ho\n",
    "re.findall(r'[ ]\\D{3}[ ]', date)"
   ]
  },
  {
   "cell_type": "code",
   "execution_count": 111,
   "metadata": {},
   "outputs": [
    {
     "data": {
      "text/plain": [
       "['23-10-2002']"
      ]
     },
     "execution_count": 111,
     "metadata": {},
     "output_type": "execute_result"
    }
   ],
   "source": [
    "# srif wo jin me 2 digit phir <-> phir 2 digit phir <-> phir 4 digit hon\n",
    "re.findall(r'\\d{2}[-]\\d{2}[-]\\d{4}', date)"
   ]
  },
  {
   "cell_type": "code",
   "execution_count": 113,
   "metadata": {},
   "outputs": [
    {
     "data": {
      "text/plain": [
       "['23/10/2002', '10/23/2002']"
      ]
     },
     "execution_count": 113,
     "metadata": {},
     "output_type": "execute_result"
    }
   ],
   "source": [
    "# srif wo jin me 2 digit phir </> phir 2 digit phir </> phir 4 digit hon\n",
    "re.findall(r'\\d{2}[/]\\d{2}[/]\\d{4}', date)"
   ]
  },
  {
   "cell_type": "code",
   "execution_count": 117,
   "metadata": {},
   "outputs": [
    {
     "data": {
      "text/plain": [
       "['23-10-2002', '23/10/2002', '10/23/2002']"
      ]
     },
     "execution_count": 117,
     "metadata": {},
     "output_type": "execute_result"
    }
   ],
   "source": [
    "# srif wo jin me 2 digit phir </> ye <-> phir 2 digit phir </> ye <-> phir 4 digit hon\n",
    "re.findall(r'\\d{2}[/-]\\d{2}[/-]\\d{4}', date)"
   ]
  },
  {
   "cell_type": "code",
   "execution_count": 119,
   "metadata": {},
   "outputs": [
    {
     "data": {
      "text/plain": [
       "['23-10-2002', '23/10/2002', '23/10/02', '10/23/2002']"
      ]
     },
     "execution_count": 119,
     "metadata": {},
     "output_type": "execute_result"
    }
   ],
   "source": [
    "# srif wo jin me 2 digit phir </> ye <-> phir 2 digit phir </> ye <-> phir 2 ya 4 digit hon\n",
    "re.findall(r'\\d{2}[/-]\\d{2}[/-]\\d{2,4}', date)"
   ]
  },
  {
   "cell_type": "code",
   "execution_count": 122,
   "metadata": {},
   "outputs": [
    {
     "data": {
      "text/plain": [
       "['23-10-2002', '23/10/2002', '23/10/02', '10/23/2002']"
      ]
     },
     "execution_count": 122,
     "metadata": {},
     "output_type": "execute_result"
    }
   ],
   "source": [
    "# srif wo jin me 1 ya 2 digit phir </> ya <-> phir 1 ya 2 digit phir </> ya <-> phir 2 ya 4 digit hon\n",
    "re.findall(r'\\d{1,2}[/-]\\d{1,2}[/-]\\d{2,4}', date)"
   ]
  },
  {
   "cell_type": "code",
   "execution_count": 127,
   "metadata": {},
   "outputs": [
    {
     "data": {
      "text/plain": [
       "['Oct']"
      ]
     },
     "execution_count": 127,
     "metadata": {},
     "output_type": "execute_result"
    }
   ],
   "source": [
    "# srif wo jis me 2 digits hon phir <Jan... Dec> me sy koi ho or phir 4 digits hon.. \n",
    "# yahan srif list me sy jo month mily ga wo month return kar gy\n",
    "re.findall(r'\\d{2} (Jan|Feb|Mar|Apr|May|Jun|Jul|Aug|Sep|Oct|Nov|Dec) \\d{4}', date)"
   ]
  },
  {
   "cell_type": "code",
   "execution_count": 129,
   "metadata": {},
   "outputs": [
    {
     "data": {
      "text/plain": [
       "['23 Oct 2002']"
      ]
     },
     "execution_count": 129,
     "metadata": {},
     "output_type": "execute_result"
    }
   ],
   "source": [
    "# oper waly cell wali hi cheez magar sirf month k bajay poori date\n",
    "re.findall(r'\\d{2} (?:Jan|Feb|Mar|Apr|May|Jun|Jul|Aug|Sep|Oct|Nov|Dec) \\d{4}', date)"
   ]
  },
  {
   "cell_type": "code",
   "execution_count": 157,
   "metadata": {},
   "outputs": [
    {
     "data": {
      "text/plain": [
       "['23 Oct 2002', '23 October 2002']"
      ]
     },
     "execution_count": 157,
     "metadata": {},
     "output_type": "execute_result"
    }
   ],
   "source": [
    "# pehly 2 digits phir <Jan...Dec> me sy koi, pir a-z me sy koi<optinol>, pihr 4 digits\n",
    "re.findall(r'\\d{2} (?:Jan|Feb|Mar|Apr|May|Jun|Jul|Aug|Sep|Oct|Nov|Dec)[a-z]* \\d{4}', date)"
   ]
  },
  {
   "cell_type": "code",
   "execution_count": 162,
   "metadata": {},
   "outputs": [
    {
     "data": {
      "text/plain": [
       "['23 Oct 2002', '23 October 2002', 'Oct 23, 2002', 'October 23, 2002']"
      ]
     },
     "execution_count": 162,
     "metadata": {},
     "output_type": "execute_result"
    }
   ],
   "source": [
    "# month k pehly or baad me dono me ksi bhi side date ho sakti h, \n",
    "re.findall(r'(?:\\d{2} )?(?:Jan|Feb|Mar|Apr|May|Jun|Jul|Aug|Sep|Oct|\\\n",
    "Nov|Dec)[a-z]* (?:\\d{2}, )?\\d{4}', date)"
   ]
  },
  {
   "cell_type": "code",
   "execution_count": 159,
   "metadata": {},
   "outputs": [
    {
     "data": {
      "text/plain": [
       "['23 Oct 2002', '23 October 2002', 'Oct 23, 2002', 'October 23, 2002']"
      ]
     },
     "execution_count": 159,
     "metadata": {},
     "output_type": "execute_result"
    }
   ],
   "source": [
    "re.findall(r'(?:\\d{1,2} )?(?:Jan|Feb|Mar|Apr|May|Jun|Jul|Aug|Sep|Oct|Nov|Dec)[a-z]* (?:\\d{1,2}, )?\\d{4}', date)"
   ]
  }
 ],
 "metadata": {
  "kernelspec": {
   "display_name": "Python 3",
   "language": "python",
   "name": "python3"
  },
  "language_info": {
   "codemirror_mode": {
    "name": "ipython",
    "version": 3
   },
   "file_extension": ".py",
   "mimetype": "text/x-python",
   "name": "python",
   "nbconvert_exporter": "python",
   "pygments_lexer": "ipython3",
   "version": "3.6.4"
  }
 },
 "nbformat": 4,
 "nbformat_minor": 2
}
