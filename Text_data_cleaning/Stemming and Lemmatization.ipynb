{
 "cells": [
  {
   "cell_type": "markdown",
   "metadata": {},
   "source": [
    "# NOTE: nltk.PorterStemmer() me word ko lower karny ki zaroorat nahi h,, wo khud hi word ko lower kar k stemm karta h\n",
    "# nltk.WordNetLemmatizer() me word ko manually lower karna parta h"
   ]
  },
  {
   "cell_type": "code",
   "execution_count": 3,
   "metadata": {},
   "outputs": [
    {
     "ename": "ModuleNotFoundError",
     "evalue": "No module named 'nltk'",
     "output_type": "error",
     "traceback": [
      "\u001b[0;31m---------------------------------------------------------------\u001b[0m",
      "\u001b[0;31mModuleNotFoundError\u001b[0m           Traceback (most recent call last)",
      "\u001b[0;32m<ipython-input-3-ae26f034b3f1>\u001b[0m in \u001b[0;36m<module>\u001b[0;34m()\u001b[0m\n\u001b[0;32m----> 1\u001b[0;31m \u001b[0;32mimport\u001b[0m \u001b[0mnltk\u001b[0m\u001b[0;34m\u001b[0m\u001b[0m\n\u001b[0m\u001b[1;32m      2\u001b[0m \u001b[0mtxt\u001b[0m \u001b[0;34m=\u001b[0m \u001b[0;34m\"List listed lists listing listings\"\u001b[0m\u001b[0;34m\u001b[0m\u001b[0m\n",
      "\u001b[0;31mModuleNotFoundError\u001b[0m: No module named 'nltk'"
     ]
    }
   ],
   "source": [
    "import nltk\n",
    "txt = \"List listed lists listing listings\""
   ]
  },
  {
   "cell_type": "code",
   "execution_count": 2,
   "metadata": {},
   "outputs": [
    {
     "ename": "NameError",
     "evalue": "name 'nltk' is not defined",
     "output_type": "error",
     "traceback": [
      "\u001b[0;31m---------------------------------------------------------------\u001b[0m",
      "\u001b[0;31mNameError\u001b[0m                     Traceback (most recent call last)",
      "\u001b[0;32m<ipython-input-2-565e5a5f4fd9>\u001b[0m in \u001b[0;36m<module>\u001b[0;34m()\u001b[0m\n\u001b[0;32m----> 1\u001b[0;31m \u001b[0mstemm\u001b[0m \u001b[0;34m=\u001b[0m \u001b[0mnltk\u001b[0m\u001b[0;34m.\u001b[0m\u001b[0mPorterStemmer\u001b[0m\u001b[0;34m(\u001b[0m\u001b[0;34m)\u001b[0m\u001b[0;34m\u001b[0m\u001b[0m\n\u001b[0m\u001b[1;32m      2\u001b[0m \u001b[0mset\u001b[0m\u001b[0;34m(\u001b[0m\u001b[0;34m[\u001b[0m\u001b[0mstemm\u001b[0m\u001b[0;34m.\u001b[0m\u001b[0mstem\u001b[0m\u001b[0;34m(\u001b[0m\u001b[0mword\u001b[0m\u001b[0;34m)\u001b[0m \u001b[0;32mfor\u001b[0m \u001b[0mword\u001b[0m \u001b[0;32min\u001b[0m \u001b[0mtxt\u001b[0m\u001b[0;34m.\u001b[0m\u001b[0msplit\u001b[0m\u001b[0;34m(\u001b[0m\u001b[0;34m)\u001b[0m\u001b[0;34m]\u001b[0m\u001b[0;34m)\u001b[0m\u001b[0;34m\u001b[0m\u001b[0m\n",
      "\u001b[0;31mNameError\u001b[0m: name 'nltk' is not defined"
     ]
    }
   ],
   "source": [
    "stemm = nltk.PorterStemmer()\n",
    "set([stemm.stem(word) for word in txt.split()])"
   ]
  },
  {
   "cell_type": "code",
   "execution_count": 29,
   "metadata": {},
   "outputs": [
    {
     "data": {
      "text/plain": [
       "{'List', 'list', 'listed', 'listing'}"
      ]
     },
     "execution_count": 29,
     "metadata": {},
     "output_type": "execute_result"
    }
   ],
   "source": [
    "WNlemma = nltk.WordNetLemmatizer()\n",
    "set([WNlemma.lemmatize(word) for word in txt.split()])"
   ]
  },
  {
   "cell_type": "code",
   "execution_count": 53,
   "metadata": {},
   "outputs": [
    {
     "data": {
      "text/plain": [
       "['list', 'list', 'list', 'list', 'list']"
      ]
     },
     "execution_count": 53,
     "metadata": {},
     "output_type": "execute_result"
    }
   ],
   "source": [
    "def text_to_tokens(text, txt = False):\n",
    "    \"\"\"\n",
    "    agar <txt> True ho ga to output string me ho ga, warna lsit of words me\n",
    "    \"\"\"\n",
    "    import nltk\n",
    "    porter = nltk.PorterStemmer()\n",
    "    WNlemma = nltk.WordNetLemmatizer()\n",
    "    \n",
    "    stemmed = [porter.stem(word) for word in text.split()]\n",
    "    lemmatized = [WNlemma.lemmatize(word) for word in stemmed]\n",
    "    \n",
    "    if txt:\n",
    "        return ' '.join(lemmatized)\n",
    "    else:\n",
    "        return lemmatized\n",
    "    \n",
    "input1 = \"List listed lists listing listings\"\n",
    "text_to_tokens(input1)"
   ]
  },
  {
   "cell_type": "code",
   "execution_count": 60,
   "metadata": {},
   "outputs": [],
   "source": [
    "udhr = nltk.corpus.udhr.words('English-Latin1')\n",
    "udhr = ' '.join(udhr).lower()"
   ]
  },
  {
   "cell_type": "code",
   "execution_count": null,
   "metadata": {},
   "outputs": [
    {
     "name": "stdout",
     "output_type": "stream",
     "text": [
      "javaldx: Could not find a Java Runtime Environment!\r\n",
      "Please ensure that a JVM and the package libreoffice-java-common\r\n",
      "is installed.\r\n",
      "If it is already installed then try removing ~/.libreoffice/3/user/config/javasettings_Linux_*.xml\r\n",
      "Warning: failed to read path from javaldx\r\n"
     ]
    }
   ],
   "source": [
    "import pandas as pd\n",
    "porter = nltk.PorterStemmer()\n",
    "WNlemma = nltk.WordNetLemmatizer()\n",
    "stemmed = [porter.stem(word) for word in udhr.split()]\n",
    "lemmatized = [WNlemma.lemmatize(word) for word in udhr.split()]\n",
    "    \n",
    "df = pd.DataFrame()\n",
    "stemmed = []\n",
    "lemmatized = []\n",
    "stemmed_and_lemmatized = []\n",
    "lemmatized_and_stemmed = []\n",
    "for word in udhr.split():\n",
    "    stemmed.append(porter.stem(word))\n",
    "    lemmatized.append(WNlemma.lemmatize(word))\n",
    "    stemmed_and_lemmatized.append(WNlemma.lemmatize(stemmed[-1]))\n",
    "    lemmatized_and_stemmed.append(porter.stem(lemmatized[-1]))\n",
    "for col_name, lst in zip(['orignal', 'stemmed', 'lemmatized', 'stemmed_and_lemmatized', 'lemmatized_and_stemmed'], [stemmed, lemmatized, stemmed_and_lemmatized, lemmatized_and_stemmed, udhr.split()]):\n",
    "    df[col_name] = lst\n",
    "    \n",
    "# df.to_csv('check.csv')\n",
    "# !libreoffice check.csv\n",
    "c = -1\n",
    "cc = []\n",
    "for i in range(len(df)):\n",
    "    c += 1\n",
    "    if len(set(df.loc[i])) != 1:\n",
    "        cc.append(i)\n",
    "df = df.loc[cc]\n",
    "df.to_csv('check_2.csv')\n",
    "!libreoffice check_2.csv"
   ]
  },
  {
   "cell_type": "code",
   "execution_count": 107,
   "metadata": {},
   "outputs": [],
   "source": []
  },
  {
   "cell_type": "code",
   "execution_count": 108,
   "metadata": {},
   "outputs": [],
   "source": []
  },
  {
   "cell_type": "code",
   "execution_count": null,
   "metadata": {},
   "outputs": [],
   "source": []
  },
  {
   "cell_type": "code",
   "execution_count": null,
   "metadata": {},
   "outputs": [],
   "source": []
  }
 ],
 "metadata": {
  "kernelspec": {
   "display_name": "Python 3",
   "language": "python",
   "name": "python3"
  },
  "language_info": {
   "codemirror_mode": {
    "name": "ipython",
    "version": 3
   },
   "file_extension": ".py",
   "mimetype": "text/x-python",
   "name": "python",
   "nbconvert_exporter": "python",
   "pygments_lexer": "ipython3",
   "version": "3.6.5"
  }
 },
 "nbformat": 4,
 "nbformat_minor": 2
}
